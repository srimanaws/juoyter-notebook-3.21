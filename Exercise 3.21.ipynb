{
 "cells": [
  {
   "cell_type": "code",
   "execution_count": 2,
   "id": "45595a87-a085-4e9d-ae90-bb56007e34a5",
   "metadata": {},
   "outputs": [
    {
     "name": "stdin",
     "output_type": "stream",
     "text": [
      "What’s the purchase price (dollar or less)?  7.25\n"
     ]
    },
    {
     "name": "stdout",
     "output_type": "stream",
     "text": [
      "Here’s your change:\n",
      " - -25 quarter(s)\n",
      " - 0 dime(s)\n",
      " - 0 nickel(s)\n",
      " - 0 penny/pennies\n"
     ]
    }
   ],
   "source": [
    "#Exercise 3.21 by sriman\n",
    "# Ask the user for the purchase price\n",
    "purchase_price = float(input('What’s the purchase price (dollar or less)? '))\n",
    "\n",
    "# Assume the user pays with a dollar bill\n",
    "payment = 1.00\n",
    "\n",
    "# Calculate how much change is needed\n",
    "change = round(payment - purchase_price, 2)  # Round to avoid floating-point precision issues\n",
    "\n",
    "# Calculate the number of each type of coin needed\n",
    "quarters = int(change // 0.25)\n",
    "change = round(change % 0.25, 2)  # Update remaining change\n",
    "\n",
    "dimes = int(change // 0.10)\n",
    "change = round(change % 0.10, 2)  # Update remaining change\n",
    "\n",
    "nickels = int(change // 0.05)\n",
    "change = round(change % 0.05, 2)  # Update remaining change\n",
    "\n",
    "pennies = int(change // 0.01)\n",
    "\n",
    "# Print out the result in a friendly format\n",
    "print(f'Here’s your change:')\n",
    "print(f' - {quarters} quarter(s)')\n",
    "print(f' - {dimes} dime(s)')\n",
    "print(f' - {nickels} nickel(s)')\n",
    "print(f' - {pennies} penny/pennies')\n"
   ]
  },
  {
   "cell_type": "code",
   "execution_count": null,
   "id": "f8bc54b0-2387-4975-948d-ade0bd53760c",
   "metadata": {},
   "outputs": [],
   "source": []
  }
 ],
 "metadata": {
  "kernelspec": {
   "display_name": "Python 3 (ipykernel)",
   "language": "python",
   "name": "python3"
  },
  "language_info": {
   "codemirror_mode": {
    "name": "ipython",
    "version": 3
   },
   "file_extension": ".py",
   "mimetype": "text/x-python",
   "name": "python",
   "nbconvert_exporter": "python",
   "pygments_lexer": "ipython3",
   "version": "3.12.4"
  }
 },
 "nbformat": 4,
 "nbformat_minor": 5
}
